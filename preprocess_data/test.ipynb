{
 "cells": [
  {
   "cell_type": "code",
   "execution_count": 20,
   "metadata": {},
   "outputs": [],
   "source": [
    "import re\n",
    "from bs4 import BeautifulSoup"
   ]
  },
  {
   "cell_type": "code",
   "execution_count": 52,
   "metadata": {},
   "outputs": [],
   "source": [
    "# Đoạn mã JavaScript mới để thay thế\n",
    "NEW_CODE1 = '''\n",
    "var num = 0;\n",
    "function newMarker(e){\n",
    "    if( num < 2){\n",
    "        num += 1;\n",
    "'''\n",
    "\n",
    "NEW_CODE2 = 'toFixed(8)'\n",
    "\n",
    "NEW_CODE3 = '''\n",
    "if( num == 1){\n",
    "    new_mark.bindTooltip(`<b>Start</b> <br /> <b>Lat:</b> ${lat} <br /><b>Lng:</b> ${lng}`);\n",
    "}\n",
    "else{\n",
    "    new_mark.bindTooltip(`<b>End</b> <br /> <b>Lat:</b> ${lat} <br /><b>Lng:</b> ${lng}`);\n",
    "}\n",
    "\n",
    "var searchLink = document.getElementById(\"search\");\n",
    "searchLink.href += ('_' +encodeURIComponent(lat) + '_' + encodeURIComponent(lng));\n",
    "}\n",
    "};\n",
    "'''\n"
   ]
  },
  {
   "cell_type": "code",
   "execution_count": 53,
   "metadata": {},
   "outputs": [],
   "source": [
    "with open('map1.html', \"r\") as file:\n",
    "    f = file.read()\n",
    "\n",
    "soup = BeautifulSoup(f, \"html.parser\")\n",
    "\n",
    "# Sửa function newMarker\n",
    "script_tag = soup.find('script', string=lambda text: 'function newMarker' in str(text))\n",
    "if script_tag:\n",
    "    pattern1 = re.compile(r'function newMarker\\((.*?)\\)\\s*{', re.DOTALL)\n",
    "    pattern2 = re.compile(r'toFixed\\(.\\)')\n",
    "    pattern3 = re.compile(r'new_mark.bind[^;]*;[^;]*;')\n",
    "    pattern4 = re.compile(r'new_mark.dragging.enable\\(\\);')\n",
    "    script_tag.string = re.sub(pattern1, NEW_CODE1, script_tag.string)\n",
    "    script_tag.string = re.sub(pattern2, NEW_CODE2, script_tag.string)\n",
    "    script_tag.string = re.sub(pattern3, NEW_CODE3, script_tag.string)\n",
    "    script_tag.string = re.sub(pattern4, '', script_tag.string)\n",
    "\n",
    "# Lưu lại file sau khi chỉnh sửa\n",
    "with open('map2.html', \"w\") as file:\n",
    "    file.write(str(soup))"
   ]
  }
 ],
 "metadata": {
  "kernelspec": {
   "display_name": "Python 3",
   "language": "python",
   "name": "python3"
  },
  "language_info": {
   "codemirror_mode": {
    "name": "ipython",
    "version": 3
   },
   "file_extension": ".py",
   "mimetype": "text/x-python",
   "name": "python",
   "nbconvert_exporter": "python",
   "pygments_lexer": "ipython3",
   "version": "3.12.0"
  }
 },
 "nbformat": 4,
 "nbformat_minor": 2
}
